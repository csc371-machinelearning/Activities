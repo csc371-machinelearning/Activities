{
 "cells": [
  {
   "cell_type": "markdown",
   "id": "ddb40797-26cd-462f-ad0f-477b18359a45",
   "metadata": {},
   "source": [
    "# Ensemble Methods\n",
    "\n",
    "We will implement a simplified random forest with synthetic data. \n",
    "\n",
    "We will do this via *bagging*, or **b**ootstrap **agg**regat**ing**, where each decision tree in the ensemble is built from a bootstrapped sampling of the training data.\n",
    "\n",
    "<img src=\"https://upload.wikimedia.org/wikipedia/commons/c/c8/Ensemble_Bagging.svg\" width=\"500\" />\n",
    "\n",
    "We will generate synthetic data and build our decision tree using `sklearn`."
   ]
  },
  {
   "cell_type": "code",
   "execution_count": 142,
   "id": "3bfbf702-8c1c-4c17-9d33-9b13867e0412",
   "metadata": {},
   "outputs": [],
   "source": [
    "from sklearn.tree import DecisionTreeClassifier\n",
    "from sklearn.datasets import make_classification\n",
    "from sklearn.model_selection import train_test_split"
   ]
  },
  {
   "cell_type": "markdown",
   "id": "3430741c-574d-4339-89c2-286c7d1d7252",
   "metadata": {},
   "source": [
    "### First, we create our \"original\" dataset"
   ]
  },
  {
   "cell_type": "code",
   "execution_count": 147,
   "id": "28ff694b-17ee-4aec-9622-3e5113642103",
   "metadata": {},
   "outputs": [],
   "source": [
    "# Generate synthetic data\n",
    "X, y = make_classification(n_samples=500, n_features=10, n_redundant=0, n_classes=2, flip_y=0.2, random_state=11)\n",
    "\n",
    "# Split data into train and test sets\n",
    "X_train, X_test, y_train, y_test = train_test_split(X, y, test_size=0.2)\n",
    "\n"
   ]
  },
  {
   "cell_type": "markdown",
   "id": "91e98a69-1620-48c4-a484-e61979c79253",
   "metadata": {},
   "source": [
    "### In the following cell, create `n_sample` number of bootstrapped datasets, each with the same number of examples as the original training data."
   ]
  },
  {
   "cell_type": "code",
   "execution_count": null,
   "id": "3a5543f7-4cd0-4bfe-a840-a9e6436a6d95",
   "metadata": {},
   "outputs": [],
   "source": [
    "\n"
   ]
  },
  {
   "cell_type": "markdown",
   "id": "a067787b-7fd1-401d-be7f-e553825acc9c",
   "metadata": {},
   "source": [
    "1. build a weak (`max_depth=2`) decision tree classifier for each bootstrapped dataset.\n",
    "2. make predictions on the test set. Visualize where different trees make different predictions, and print the F1 score for each model.\n"
   ]
  },
  {
   "cell_type": "code",
   "execution_count": null,
   "id": "220ea6c9-9197-4d21-b6c7-589ade944b7b",
   "metadata": {},
   "outputs": [],
   "source": []
  },
  {
   "cell_type": "markdown",
   "id": "34c140a1-38cc-428d-9d11-003ba8f4d28d",
   "metadata": {},
   "source": [
    "### Implement a voting procedure to make a final prediction for each test example and compute the F1 score of the ensemble model"
   ]
  },
  {
   "cell_type": "code",
   "execution_count": null,
   "id": "68af4250-7447-4cdd-bccf-a3574574cd84",
   "metadata": {},
   "outputs": [],
   "source": []
  },
  {
   "cell_type": "markdown",
   "id": "3b18a4ba-85f1-421e-8e43-06e8009bffe1",
   "metadata": {},
   "source": [
    "## You did it! If you have time, go back and rerun the code for different datasets"
   ]
  },
  {
   "cell_type": "code",
   "execution_count": null,
   "id": "804883a4-3c6c-4ac7-9a6f-7552d23b9725",
   "metadata": {},
   "outputs": [],
   "source": []
  },
  {
   "cell_type": "code",
   "execution_count": null,
   "id": "156cc3b9-df7b-44e0-a4b9-8bcd59a07739",
   "metadata": {},
   "outputs": [],
   "source": []
  }
 ],
 "metadata": {
  "kernelspec": {
   "display_name": "Python 3.8",
   "language": "python",
   "name": "python3"
  },
  "language_info": {
   "codemirror_mode": {
    "name": "ipython",
    "version": 3
   },
   "file_extension": ".py",
   "mimetype": "text/x-python",
   "name": "python",
   "nbconvert_exporter": "python",
   "pygments_lexer": "ipython3",
   "version": "3.8.6"
  }
 },
 "nbformat": 4,
 "nbformat_minor": 5
}
