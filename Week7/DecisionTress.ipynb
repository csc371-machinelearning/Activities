{
 "cells": [
  {
   "cell_type": "code",
   "execution_count": 176,
   "metadata": {},
   "outputs": [
    {
     "data": {
      "text/html": [
       "<style>\n",
       "  table {margin-left: 0 !important;}\n",
       "</style>\n",
       "\n",
       "<!-- Execute this cell first for some formatting in the Markdown cells! -->\n"
      ],
      "text/plain": [
       "<IPython.core.display.HTML object>"
      ]
     },
     "metadata": {},
     "output_type": "display_data"
    }
   ],
   "source": [
    "%%html\n",
    "<style>\n",
    "  table {margin-left: 0 !important;}\n",
    "</style>\n",
    "\n",
    "<!-- Execute this cell first for some formatting in the Markdown cells! -->"
   ]
  },
  {
   "cell_type": "markdown",
   "metadata": {},
   "source": [
    "# Decision Trees\n",
    "\n",
    "### Hmmm, should I buy this car?\n",
    "\n",
    "<img src=\"https://hips.hearstapps.com/autoweek/assets/s3fs-public/16c708_01.jpg?fill=768:510&resize=980:*\" width=\"400\" />\n",
    "\n",
    "We will use the [car evaluation database](https://archive.ics.uci.edu/dataset/19/car+evaluation) to build a decision tree model that will determine the \"acceptability\" i.e. the *quality* of a car. \n",
    "\n",
    "Here is some information about the data, which is in the file `car.data` (see `car.names` for more information):\n",
    "\n",
    "#### Attribute (Feature) Values:\n",
    "\n",
    "   - **buying:**       vhigh, high, med, low\n",
    "   - **maint:**       vhigh, high, med, low\n",
    "   - **doors:**        2, 3, 4, 5more\n",
    "   - **persons:**      2, 4, more\n",
    "   - **lug_boot:**     small, med, big\n",
    "   - **safety:**       low, med, high \n",
    "   \n",
    "#### Target information:\n",
    "\n",
    "   class |    N     |     N[%]\n",
    "   --------|-------|--------------\n",
    "   unacc  |   1210  |   (70.023 %) \n",
    "   acc    |    384   |  (22.222 %) \n",
    "   good    |    69  |   ( 3.993 %) \n",
    "   v-good  |    65  |   ( 3.762 %) \n",
    "\n",
    "\n",
    "\n",
    "**Our goal today is to determine which feature we should install at the head node of the tree using the ID3 decision tree metrics (which is the one we discussed in class).**\n",
    "\n",
    "As a reminder, the Entropy and Gain equations we described in class can be extended to muliclass data by the following equations:\n",
    "\n",
    "$$S(D) = \\sum_{i=1}^N-p_i\\log_2{p_i}$$\n",
    "<!-- p_Y\\log_2{p_Y} - p_N\\log_2{p_N} -->\n",
    "$$Gain(D, feature) = S(D) - \\sum_{i=1}^N\\frac{|D_i|}{|D|}Entropy(D_i) $$\n",
    "\n",
    "Recall that $|S|$ and $|S_i|$ represent the number of training examples within each dataset.\n",
    "\n",
    "\n",
    "### Computational Notes:\n",
    "`pandas` can make your life easier here. \n",
    "\n",
    "There are many ways to do the calculation, but I will highlight some methods that helped me write this code quickly. You do not have to use these. Check the online documentation for assistance.\n",
    "\n",
    " - `pandas.value_counts()`\n",
    " - `pandas.unique()`\n",
    " - `pandas.read_csv()`\n",
    " -  If I assume that I have a `DataFrame` named `df`: df[df[feature] == value]\n",
    " - `numpy.argmax()`\n",
    "\n",
    "\n",
    "***Note: If you have time, you can try to find the nodes to install at each branch of the tree***"
   ]
  },
  {
   "cell_type": "code",
   "execution_count": 177,
   "metadata": {},
   "outputs": [],
   "source": [
    "# import packages here\n",
    "\n"
   ]
  },
  {
   "cell_type": "code",
   "execution_count": 178,
   "metadata": {},
   "outputs": [],
   "source": [
    "# Complete me\n",
    "\n",
    "def Entropy(S):\n",
    "    \"\"\"\n",
    "    Entropy function that returns the entropy of a given dataset S\n",
    "    \"\"\"\n",
    "    return\n",
    "\n",
    "        \n",
    "    "
   ]
  },
  {
   "cell_type": "code",
   "execution_count": 179,
   "metadata": {},
   "outputs": [],
   "source": [
    "# Complete me\n",
    "\n",
    "def Gain(S, feature):\n",
    "    \"\"\"\n",
    "    Gain function that returns the gain for a given feature\n",
    "    \"\"\"\n",
    "    return\n",
    "    "
   ]
  },
  {
   "cell_type": "code",
   "execution_count": 180,
   "metadata": {},
   "outputs": [
    {
     "data": {
      "text/html": [
       "<div>\n",
       "<style scoped>\n",
       "    .dataframe tbody tr th:only-of-type {\n",
       "        vertical-align: middle;\n",
       "    }\n",
       "\n",
       "    .dataframe tbody tr th {\n",
       "        vertical-align: top;\n",
       "    }\n",
       "\n",
       "    .dataframe thead th {\n",
       "        text-align: right;\n",
       "    }\n",
       "</style>\n",
       "<table border=\"1\" class=\"dataframe\">\n",
       "  <thead>\n",
       "    <tr style=\"text-align: right;\">\n",
       "      <th></th>\n",
       "      <th>buying</th>\n",
       "      <th>maint</th>\n",
       "      <th>doors</th>\n",
       "      <th>persons</th>\n",
       "      <th>lug_boot</th>\n",
       "      <th>safety</th>\n",
       "      <th>acceptability</th>\n",
       "    </tr>\n",
       "  </thead>\n",
       "  <tbody>\n",
       "    <tr>\n",
       "      <th>0</th>\n",
       "      <td>vhigh</td>\n",
       "      <td>vhigh</td>\n",
       "      <td>2</td>\n",
       "      <td>2</td>\n",
       "      <td>small</td>\n",
       "      <td>low</td>\n",
       "      <td>unacc</td>\n",
       "    </tr>\n",
       "    <tr>\n",
       "      <th>1</th>\n",
       "      <td>vhigh</td>\n",
       "      <td>vhigh</td>\n",
       "      <td>2</td>\n",
       "      <td>2</td>\n",
       "      <td>small</td>\n",
       "      <td>med</td>\n",
       "      <td>unacc</td>\n",
       "    </tr>\n",
       "    <tr>\n",
       "      <th>2</th>\n",
       "      <td>vhigh</td>\n",
       "      <td>vhigh</td>\n",
       "      <td>2</td>\n",
       "      <td>2</td>\n",
       "      <td>small</td>\n",
       "      <td>high</td>\n",
       "      <td>unacc</td>\n",
       "    </tr>\n",
       "    <tr>\n",
       "      <th>3</th>\n",
       "      <td>vhigh</td>\n",
       "      <td>vhigh</td>\n",
       "      <td>2</td>\n",
       "      <td>2</td>\n",
       "      <td>med</td>\n",
       "      <td>low</td>\n",
       "      <td>unacc</td>\n",
       "    </tr>\n",
       "    <tr>\n",
       "      <th>4</th>\n",
       "      <td>vhigh</td>\n",
       "      <td>vhigh</td>\n",
       "      <td>2</td>\n",
       "      <td>2</td>\n",
       "      <td>med</td>\n",
       "      <td>med</td>\n",
       "      <td>unacc</td>\n",
       "    </tr>\n",
       "  </tbody>\n",
       "</table>\n",
       "</div>"
      ],
      "text/plain": [
       "  buying  maint doors persons lug_boot safety acceptability\n",
       "0  vhigh  vhigh     2       2    small    low         unacc\n",
       "1  vhigh  vhigh     2       2    small    med         unacc\n",
       "2  vhigh  vhigh     2       2    small   high         unacc\n",
       "3  vhigh  vhigh     2       2      med    low         unacc\n",
       "4  vhigh  vhigh     2       2      med    med         unacc"
      ]
     },
     "execution_count": 180,
     "metadata": {},
     "output_type": "execute_result"
    }
   ],
   "source": [
    "# read data here\n",
    "\n",
    "#data = \n",
    "\n",
    "data.head()"
   ]
  },
  {
   "cell_type": "code",
   "execution_count": 182,
   "metadata": {},
   "outputs": [],
   "source": [
    "# This function is complete. You should not have to modify this.\n",
    "# However, I recommend stepping through it and taking note of how it works.\n",
    "\n",
    "# I also recommend uncommenting the print statement to look at your gains\n",
    "\n",
    "def find_node(S):\n",
    "    \"\"\"\n",
    "    Loops through columns and calculates the gains for each feature.\n",
    "    \n",
    "    returns: the name of the feature to be installed at a given node\n",
    "    \"\"\"\n",
    "    cols = list(S)\n",
    "    gains = []\n",
    "    \n",
    "    # loop through features. Last is the target so we will skip that.\n",
    "    for c in cols[:-1]:\n",
    "        gains.append(Gain(S,c))\n",
    "    gains = np.array(gains)\n",
    "    #print(gains)\n",
    "    return cols[np.argmax(gains)]"
   ]
  },
  {
   "cell_type": "code",
   "execution_count": 162,
   "metadata": {},
   "outputs": [],
   "source": [
    "# Here, call find node() above and find which feature should be installed at the head node\n",
    "\n",
    "\n",
    "        "
   ]
  },
  {
   "cell_type": "code",
   "execution_count": 183,
   "metadata": {},
   "outputs": [],
   "source": [
    "# if you have time, you can attempt to print the features at each node\n",
    "# note: you may (likely) want to use recursion!\n"
   ]
  },
  {
   "cell_type": "markdown",
   "metadata": {},
   "source": []
  }
 ],
 "metadata": {
  "kernelspec": {
   "display_name": "Python 3.8",
   "language": "python",
   "name": "python3"
  },
  "language_info": {
   "codemirror_mode": {
    "name": "ipython",
    "version": 3
   },
   "file_extension": ".py",
   "mimetype": "text/x-python",
   "name": "python",
   "nbconvert_exporter": "python",
   "pygments_lexer": "ipython3",
   "version": "3.8.12"
  }
 },
 "nbformat": 4,
 "nbformat_minor": 4
}
