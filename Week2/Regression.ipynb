{
 "cells": [
  {
   "cell_type": "markdown",
   "metadata": {},
   "source": [
    "# Linear Least Squares and the expansion of the universe!\n",
    "\n",
    "Don't worry, I won't bombard you with physics, but I hope you find this kinda interesting.\n",
    "\n",
    "<img src=\"https://upload.wikimedia.org/wikipedia/commons/thumb/3/3c/Ilc_9yr_moll4096.png/1920px-Ilc_9yr_moll4096.png\" width=\"300\" align=\"middle\" />\n",
    "\n",
    "**Read if you find the topic interesting, otherwise, skip this section!**\n",
    "*************\n",
    "<img src=\"https://cdn.theatlantic.com/assets/media/img/2018/03/lead_large-1/lead_720_405.jpg?mod=1533692228\" width=\"100\" /> Einstein's self-labelled \"biggest blunder\" came when he added a fudge factor that he called the *cosmological constant* to his calculations. He added it because based on his own theory of General Relativity, the universe was expanding... but that couldn't be! So he made it go away with this magical constant (OOPS!).\n",
    "\n",
    "Enter Edwin Hubble : <img src=\"https://upload.wikimedia.org/wikipedia/commons/thumb/1/15/Studio_portrait_photograph_of_Edwin_Powell_Hubble_%28cropped%29.JPG/220px-Studio_portrait_photograph_of_Edwin_Powell_Hubble_%28cropped%29.JPG\" width=\"70\" />. He observed that on average, everything was moving away from us. In fact, the farther away from us the object (such as a star or galaxy) was, the faster it was moving from us! Einstein realized his original work was right all along, and felt silly for faking math.\n",
    "\n",
    "Hubble saw a *linear* relationship, thus Hubble's law is written as: $$v = H_0 d$$\n",
    "In this activity we will measure Hubble's constant, $H_0$ using his **actual data**. This is a direct measurement of the expansion fo the universe (cool, right?).\n",
    "************\n",
    "\n",
    "**Help, I skipped the science, what are we doing?**\n",
    "We are doing a linear least squares regression. The first columm contains our *inputs* and the second our *outputs* to the linear model.\n",
    "\n",
    "*Note: We will use `pandas` for easy data management and whatever you like for plotting. `matplotlib` is a great start for `python` plotting.*"
   ]
  },
  {
   "cell_type": "code",
   "execution_count": 2,
   "metadata": {
    "tags": []
   },
   "outputs": [],
   "source": [
    "# import packages here. \n",
    "import numpy as np\n",
    "import pandas as pd\n",
    "import matplotlib.pyplot as plt\n"
   ]
  },
  {
   "cell_type": "code",
   "execution_count": 3,
   "metadata": {
    "tags": []
   },
   "outputs": [],
   "source": [
    "# read the data here\n",
    "data = pd.read_csv(\"Hubble_data.csv\")\n",
    "data.columns = [\"d\",\"v\"]\n",
    "# Note: new to pandas? There are handy methods for reading many different datatypes. \n",
    "# the method read_csv() is useful here.\n",
    "\n",
    "\n"
   ]
  },
  {
   "cell_type": "code",
   "execution_count": 4,
   "metadata": {},
   "outputs": [
    {
     "data": {
      "image/png": "[encoded data removed]",
      "text/plain": [
       "<Figure size 432x288 with 1 Axes>"
      ]
     },
     "metadata": {
      "needs_background": "light"
     },
     "output_type": "display_data"
    }
   ],
   "source": [
    "# let's plot the data:\n",
    "\n",
    "plt.plot(data[\"d\"],data[\"v\"],'go')\n",
    "plt.xlabel(\"d ($10^6$ parsecs)\")\n",
    "plt.ylabel(\"v (km/s)\")\n",
    "plt.title(\"Expansion of the Universe!\")\n",
    "plt.show()"
   ]
  },
  {
   "cell_type": "markdown",
   "metadata": {},
   "source": [
    "### Assume Hubble's linear model, and implement gradient descent to find the optimum value of the parameter, $H_0$"
   ]
  },
  {
   "cell_type": "code",
   "execution_count": null,
   "metadata": {},
   "outputs": [],
   "source": [
    "# gradient descent\n",
    "\n",
    "theta_p = 40.0\n",
    "alpha = .05\n",
    "err = 10\n",
    "\n",
    "while abs(err) > 0.00001:\n",
    "    theta = theta_p + alpha*np.sum((Y - y_pred(theta_p,X))*X)\n",
    "    err = sum(theta - theta_p)\n",
    "    print(err)\n",
    "    theta_p = theta\n",
    "print(theta)\n",
    "\n"
   ]
  },
  {
   "cell_type": "markdown",
   "metadata": {
    "jupyter": {
     "outputs_hidden": true
    }
   },
   "source": [
    "### What choices did you have to make when implementing the gradient descent algorithm? How did you make them?"
   ]
  },
  {
   "cell_type": "markdown",
   "metadata": {
    "tags": []
   },
   "source": [
    "<font color=\"purple\">\n",
    "Type response here (double click)"
   ]
  },
  {
   "cell_type": "code",
   "execution_count": null,
   "metadata": {},
   "outputs": [],
   "source": [
    "# plot your line of best fit and your data below. \n",
    "\n"
   ]
  },
  {
   "cell_type": "markdown",
   "metadata": {},
   "source": [
    "### In the cell below, comment on our results. \n",
    "\n",
    "Does your line appear to fit the data well? Hubble calculated an expansion at a rate of $H_0 \\approx 500$ km/s/Mparsec. Do your results agree?"
   ]
  },
  {
   "cell_type": "markdown",
   "metadata": {},
   "source": [
    "<font color=\"purple\">\n",
    "Your response goes here."
   ]
  },
  {
   "cell_type": "code",
   "execution_count": null,
   "metadata": {},
   "outputs": [],
   "source": []
  }
 ],
 "metadata": {
  "anaconda-cloud": {},
  "kernelspec": {
   "display_name": "Python 3.8",
   "language": "python",
   "name": "python3"
  },
  "language_info": {
   "codemirror_mode": {
    "name": "ipython",
    "version": 3
   },
   "file_extension": ".py",
   "mimetype": "text/x-python",
   "name": "python",
   "nbconvert_exporter": "python",
   "pygments_lexer": "ipython3",
   "version": "3.8.12"
  }
 },
 "nbformat": 4,
 "nbformat_minor": 4
}
