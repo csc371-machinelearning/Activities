{
 "cells": [
  {
   "cell_type": "markdown",
   "id": "4a0db433-f39e-47ef-ad42-efc2ff5825cc",
   "metadata": {
    "tags": []
   },
   "source": [
    "# $k$-Nearest Neighbors Activity\n",
    "\n",
    "In this activity, we will generate a simple dataset and implement the $k$-Nearest Neighbors algorithm by hand."
   ]
  },
  {
   "cell_type": "code",
   "execution_count": null,
   "id": "0a073111-c931-4748-9da1-b4eeac7337da",
   "metadata": {},
   "outputs": [],
   "source": [
    "import numpy as np\n",
    "import matplotlib.pyplot as plt\n",
    "import sklearn.datasets\n"
   ]
  },
  {
   "cell_type": "markdown",
   "id": "f357d40f-5bee-4554-810f-8b6e09c18a04",
   "metadata": {},
   "source": [
    "The `sklearn` package contains build-in datasets and dataset generators to test machine learning methods. Use the `make_blobs` generator to generate data with two features and two classes."
   ]
  },
  {
   "cell_type": "code",
   "execution_count": null,
   "id": "673b1aad-89ce-4041-868d-13ee2e1ff2e8",
   "metadata": {},
   "outputs": [],
   "source": []
  },
  {
   "cell_type": "markdown",
   "id": "322b097e-c01e-4b2c-872d-72e3ff8effb2",
   "metadata": {},
   "source": [
    "### To Do:\n",
    " - Separate your data into a training and test set. \n",
    " - Make predictions on the test set for a given $k$\n",
    " - Evaluate the successs of your predictions\n",
    " - Determine best $k$\n",
    " - Try with a different set of blobs\n",
    " - Try with a different number of classes"
   ]
  },
  {
   "cell_type": "code",
   "execution_count": null,
   "id": "daacd600-941d-4717-867e-6349a8e21f93",
   "metadata": {},
   "outputs": [],
   "source": []
  },
  {
   "cell_type": "code",
   "execution_count": null,
   "id": "bc7a040b-aeb6-44b0-82fd-cebfd542676c",
   "metadata": {},
   "outputs": [],
   "source": []
  },
  {
   "cell_type": "code",
   "execution_count": null,
   "id": "5a8456ed-2832-4e98-9300-9321d73a05a8",
   "metadata": {},
   "outputs": [],
   "source": []
  },
  {
   "cell_type": "code",
   "execution_count": null,
   "id": "d94c09e1-4267-4e84-a498-52e36484ebcb",
   "metadata": {},
   "outputs": [],
   "source": []
  },
  {
   "cell_type": "markdown",
   "id": "39d29dd4-9b89-4641-a463-8bfcbb2c4eb7",
   "metadata": {},
   "source": [
    "### Questions:\n",
    " - What ideal $k$ did you find? Was it the same for all datasets?\n",
    " - What considerations may there be with a \"real world\" dataset?"
   ]
  },
  {
   "cell_type": "code",
   "execution_count": null,
   "id": "3a02cec0-d703-4c3e-a40a-88d113ba4275",
   "metadata": {},
   "outputs": [],
   "source": []
  }
 ],
 "metadata": {
  "kernelspec": {
   "display_name": "Python 3.8",
   "language": "python",
   "name": "python3"
  },
  "language_info": {
   "codemirror_mode": {
    "name": "ipython",
    "version": 3
   },
   "file_extension": ".py",
   "mimetype": "text/x-python",
   "name": "python",
   "nbconvert_exporter": "python",
   "pygments_lexer": "ipython3",
   "version": "3.8.12"
  }
 },
 "nbformat": 4,
 "nbformat_minor": 5
}
